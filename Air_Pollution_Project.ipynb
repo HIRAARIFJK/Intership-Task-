{
 "cells": [
  {
   "cell_type": "markdown",
   "metadata": {
    "id": "f7L6abfZE1UM"
   },
   "source": [
    "#### **Project Title:**  ***\" Air Pollution Forecasting \"***\n",
    "##### **Dataset:** *\"Air Quality Dataset\"*"
   ]
  },
  {
   "cell_type": "code",
   "execution_count": null,
   "metadata": {
    "id": "IXKeh-3nE1US"
   },
   "outputs": [],
   "source": [
    "#Loading Important Libraries.\n",
    "#For working with dataframes and handling data.\n",
    "import pandas as pd\n",
    "#For numerical operations and missing value handling.\n",
    "import numpy as np\n",
    "#For creating plots and visualizations.\n",
    "import matplotlib.pyplot as plt\n",
    "#For advanced and aesthetic data visualizations.\n",
    "import seaborn as sns\n",
    "#For statistical operations like z-score calculation.\n",
    "from scipy import stats\n",
    "#For normalizing the data to a specific range (e.g., 0 to 1).\n",
    "from sklearn.preprocessing import MinMaxScaler\n",
    "#For creating a sequential model.\n",
    "from tensorflow.keras.models import Sequential\n",
    "#For recurrent layers, Dense for fully connected layers.\n",
    "from tensorflow.keras.layers import LSTM, Dense\n",
    "#For time-series forecasting with the ARIMA model.\n",
    "from statsmodels.tsa.arima.model import ARIMA\n",
    "#For evaluating model performance.\n",
    "from sklearn.metrics import mean_squared_error , mean_absolute_error"
   ]
  },
  {
   "cell_type": "markdown",
   "metadata": {
    "id": "5uZvlaqIE1UU"
   },
   "source": [
    "##### **Step 01:** Data Handling"
   ]
  },
  {
   "cell_type": "code",
   "execution_count": null,
   "metadata": {
    "colab": {
     "base_uri": "https://localhost:8080/",
     "height": 1000
    },
    "executionInfo": {
     "elapsed": 5449,
     "status": "ok",
     "timestamp": 1733072998351,
     "user": {
      "displayName": "Wajiha Changez",
      "userId": "13887425624935301083"
     },
     "user_tz": -300
    },
    "id": "q8zuP4MKE1UU",
    "outputId": "526c09da-749f-426e-9434-c68df8c87071"
   },
   "outputs": [],
   "source": [
    "#Loading the Air_Quality dataset.\n",
    "df = pd.read_excel(\"air_quality_dataset.xlsx\")\n",
    "#Converting Date and Time to String(if necessary).\n",
    "df['Date'] = df['Date'].astype(str)\n",
    "df['Time'] = df['Time'].astype(str)\n",
    "#Parsing Date and Time Columns.\n",
    "df['DateTime'] = pd.to_datetime(df['Date'] + ' ' + df['Time'])\n",
    "df.set_index('DateTime', inplace=True)\n",
    "#Dropping Original Date and Time Columns.\n",
    "df.drop(['Date', 'Time'], axis=1, inplace=True)\n",
    "#Displaying the Air_Quality dataset.\n",
    "print(\"Air Quality Dataset:\\n\",df.head())\n",
    "#Handling missing values.\n",
    "print(\"Missing Values Per Column Before Handling: \\n\",df.isnull().sum())\n",
    "#Forward filling for missing values.\n",
    "df.fillna(method='ffill', inplace=True)\n",
    "#Interpolation for missing values.\n",
    "df.interpolate(method='linear', inplace=True)\n",
    "print(\"Missing Values Per Column After Handling: \\n\",df.isnull().sum())\n",
    "#Exploratory Data Analysis(EDA).\n",
    "#Summary Statistics of Air_Quality dataset.\n",
    "print(\"Summary Statistics: \",df.describe())\n",
    "#Visualizing trends(Line plot for CO(GT)).\n",
    "plt.figure(figsize=(12, 6))\n",
    "sns.lineplot(data=df['CO(GT)'], label='CO(GT)')\n",
    "plt.title('Trend of CO(GT) Over Time')\n",
    "plt.xlabel('Time')\n",
    "plt.ylabel('CO(GT)')\n",
    "plt.legend()\n",
    "plt.show()\n",
    "#Histogram for data distribution.\n",
    "plt.figure(figsize=(8, 6))\n",
    "df['CO(GT)'].hist(bins=30, color='skyblue', edgecolor='black')\n",
    "plt.title('Histogram of CO(GT)')\n",
    "plt.xlabel('CO(GT)')\n",
    "plt.ylabel('Frequency')\n",
    "plt.show()\n",
    "#Seasonality analysis.\n",
    "df['Month'] = df.index.month\n",
    "monthly_avg = df.groupby('Month').mean()\n",
    "#Plotting monthly averages.\n",
    "plt.figure(figsize=(10, 6))\n",
    "monthly_avg['CO(GT)'].plot(kind='bar', color='orange', alpha=0.7)\n",
    "plt.title('Average Monthly CO(GT)')\n",
    "plt.xlabel('Month')\n",
    "plt.ylabel('Average CO(GT)')\n",
    "plt.show()\n",
    "#Detecting anomalies using Boxplot.\n",
    "plt.figure(figsize=(8, 6))\n",
    "sns.boxplot(data=df['CO(GT)'])\n",
    "plt.title('Boxplot for CO(GT)')\n",
    "plt.show()\n",
    "#Detecting anomalies using Z-Score.\n",
    "z_scores = np.abs(stats.zscore(df['CO(GT)'].dropna()))\n",
    "print(\"\\nAnomalies Detected: \\n\",df[z_scores > 3])"
   ]
  },
  {
   "cell_type": "markdown",
   "metadata": {
    "id": "YzNvk0yQE1UV"
   },
   "source": [
    "##### **Step 02:** Feature Engineering"
   ]
  },
  {
   "cell_type": "code",
   "execution_count": null,
   "metadata": {
    "colab": {
     "base_uri": "https://localhost:8080/"
    },
    "executionInfo": {
     "elapsed": 16,
     "status": "ok",
     "timestamp": 1733072998352,
     "user": {
      "displayName": "Wajiha Changez",
      "userId": "13887425624935301083"
     },
     "user_tz": -300
    },
    "id": "vqmQUX4vE1UW",
    "outputId": "4a01c612-5729-4bd0-bd71-f3d9b165b588"
   },
   "outputs": [],
   "source": [
    "#Extracting hour, day and month features.\n",
    "df['Hour'] = df.index.hour\n",
    "df['Day'] = df.index.day\n",
    "df['Month'] = df.index.month\n",
    "#Displaying a few rows to verify new features.\n",
    "print(df[['Hour', 'Day', 'Month']].head())\n",
    "#Calculating moving averages and rolling statistics.\n",
    "#Calculating a 3-hour moving average for the 'CO(GT)' column.\n",
    "df['CO_Moving_Avg'] = df['CO(GT)'].rolling(window=3).mean()\n",
    "#Calculating rolling standard deviation for the 'CO(GT)' column.\n",
    "df['CO_Rolling_Std'] = df['CO(GT)'].rolling(window=3).std()\n",
    "#Displaying a few rows to verify rolling statistics.\n",
    "print(df[['CO(GT)', 'CO_Moving_Avg', 'CO_Rolling_Std']].head())\n",
    "#Adding lag features for Time-Series data.\n",
    "#Creating lag features for 1 hour and 2 hours for 'CO(GT)'.\n",
    "df['CO_Lag_1'] = df['CO(GT)'].shift(1)\n",
    "df['CO_Lag_2'] = df['CO(GT)'].shift(2)\n",
    "#Displaying a few rows to verify lag features.\n",
    "print(df[['CO(GT)', 'CO_Lag_1', 'CO_Lag_2']].head())\n",
    "#Dropping NaN values introduced by rolling and lag features if needed.\n",
    "df.dropna(inplace=True)"
   ]
  },
  {
   "cell_type": "markdown",
   "metadata": {
    "id": "E069DadzE1UW"
   },
   "source": [
    "##### **Step 03:** Model Training"
   ]
  },
  {
   "cell_type": "code",
   "execution_count": null,
   "metadata": {
    "colab": {
     "base_uri": "https://localhost:8080/",
     "height": 1000
    },
    "executionInfo": {
     "elapsed": 49933,
     "status": "ok",
     "timestamp": 1733073048274,
     "user": {
      "displayName": "Wajiha Changez",
      "userId": "13887425624935301083"
     },
     "user_tz": -300
    },
    "id": "sppV9P1pE1UW",
    "outputId": "7b71e5be-43f2-46d6-8ac6-6519d46c4ede"
   },
   "outputs": [],
   "source": [
    "#Preparing data for LSTM.\n",
    "#Using 'CO(GT)' as the target variable for forecasting.\n",
    "data = df[['CO(GT)']]\n",
    "#Scaling the data using MinMaxScaler for LSTM model.\n",
    "scaler = MinMaxScaler(feature_range=(0, 1))\n",
    "scaled_data = scaler.fit_transform(data)\n",
    "#Creating sequences for LSTM (X: input features, y: target values).\n",
    "def create_sequences(data, seq_length=24):\n",
    "    X, y = [], []\n",
    "    for i in range(len(data) - seq_length):\n",
    "        X.append(data[i:i + seq_length])\n",
    "        y.append(data[i + seq_length])\n",
    "    return np.array(X), np.array(y)\n",
    "#Using 24 hours as input to predict the next hour (can adjust seq_length for more/less data).\n",
    "seq_length = 24\n",
    "X, y = create_sequences(scaled_data, seq_length)\n",
    "#Reshaping X for LSTM: [samples, time steps, features].\n",
    "X = X.reshape(X.shape[0], X.shape[1], 1)\n",
    "#Training LSTM Model.\n",
    "#Building LSTM Model.\n",
    "model = Sequential()\n",
    "model.add(LSTM(units=50, return_sequences=False, input_shape=(X.shape[1], 1)))\n",
    "model.add(Dense(units=1))\n",
    "model.compile(optimizer='adam', loss='mean_squared_error')\n",
    "#Training the model (epochs can be adjusted based on performance).\n",
    "model.fit(X, y, epochs=10, batch_size=32, verbose=1)\n",
    "#Making predictions using LSTM.\n",
    "predictions_lstm = model.predict(X)\n",
    "#Inversing transform to get the data back in original scale.\n",
    "predictions_lstm = scaler.inverse_transform(predictions_lstm)\n",
    "#Training ARIMA Model.\n",
    "#Using the last 'seq_length' data points to train the ARIMA model.\n",
    "train_data = data['CO(GT)'][-len(X):]\n",
    "#Training ARIMA model (using ARIMA(1, 0, 1) as an example).\n",
    "arima_model = ARIMA(train_data, order=(1, 0, 1))  # You can adjust the order (p, d, q)\n",
    "arima_model_fit = arima_model.fit()\n",
    "#Making predictions using ARIMA.\n",
    "predictions_arima = arima_model_fit.forecast(steps=len(X))\n",
    "#Evaluating Models.\n",
    "#Computing RMSE for both models.\n",
    "rmse_lstm = np.sqrt(mean_squared_error(y, predictions_lstm))\n",
    "rmse_arima = np.sqrt(mean_squared_error(y, predictions_arima))\n",
    "print(f\"RMSE for LSTM: {rmse_lstm}\")\n",
    "print(f\"RMSE for ARIMA: {rmse_arima}\")\n",
    "#Visualizing predictions for comparison.\n",
    "plt.figure(figsize=(14, 6))\n",
    "plt.plot(data.index[-len(X):], y, label='Actual Data', color='blue')\n",
    "plt.plot(data.index[-len(X):], predictions_lstm, label='LSTM Predictions', color='red')\n",
    "plt.plot(data.index[-len(X):], predictions_arima, label='ARIMA Predictions', color='green')\n",
    "plt.title('LSTM vs ARIMA Forecasting')\n",
    "plt.xlabel('Time')\n",
    "plt.ylabel('CO(GT)')\n",
    "plt.legend()\n",
    "plt.show()"
   ]
  },
  {
   "cell_type": "markdown",
   "metadata": {
    "id": "kGWrp_CCHQMO"
   },
   "source": [
    "##### **Step 04:** Visualization"
   ]
  },
  {
   "cell_type": "code",
   "execution_count": null,
   "metadata": {
    "colab": {
     "base_uri": "https://localhost:8080/",
     "height": 454
    },
    "executionInfo": {
     "elapsed": 10443,
     "status": "ok",
     "timestamp": 1733073058662,
     "user": {
      "displayName": "Wajiha Changez",
      "userId": "13887425624935301083"
     },
     "user_tz": -300
    },
    "id": "woQf_qDTKj4c",
    "outputId": "17da4524-2a8d-4dca-fad5-a543c86e3ab9"
   },
   "outputs": [],
   "source": [
    "model = Sequential([\n",
    "    LSTM(50, activation='relu', input_shape=(X_train_scaled.shape[1], X_train_scaled.shape[2])),  # input_shape=(1, 19)\n",
    "    Dense(1)\n",
    "])\n",
    "#Compiling the model.\n",
    "model.compile(optimizer='adam', loss='mse')\n",
    "#Training the model.\n",
    "model.fit(X_train_scaled, y_train, epochs=10, batch_size=32, verbose=1)\n",
    "#Making predictions.\n",
    "predicted = model.predict(X_test_scaled).flatten()\n",
    "#Visualization.\n",
    "#Actual AQI values from the test set.\n",
    "actual = y_test.values\n",
    "#Plotting Actual vs Predicted AQI Values.\n",
    "plt.figure(figsize=(12, 6))\n",
    "#Line plot for actual AQI values.\n",
    "plt.plot(actual, label='Actual AQI', color='blue', linewidth=2)\n",
    "#Dashed line for predicted values.\n",
    "plt.plot(predicted, label='Predicted AQI', color='orange', linestyle='--', linewidth=2)\n",
    "#Setting the plot title.\n",
    "plt.title('Actual vs Predicted AQI Values')\n",
    "plt.xlabel('Time')\n",
    "plt.ylabel('AQI')\n",
    "plt.legend()\n",
    "#Enabling grid for better visualization.\n",
    "plt.grid(True)\n",
    "plt.show()"
   ]
  },
  {
   "cell_type": "markdown",
   "metadata": {
    "id": "Tz45AuMKLvjP"
   },
   "source": [
    "##### **Step 05:** Summary of model performance"
   ]
  },
  {
   "cell_type": "code",
   "execution_count": null,
   "metadata": {
    "colab": {
     "base_uri": "https://localhost:8080/"
    },
    "executionInfo": {
     "elapsed": 19,
     "status": "ok",
     "timestamp": 1733073058662,
     "user": {
      "displayName": "Wajiha Changez",
      "userId": "13887425624935301083"
     },
     "user_tz": -300
    },
    "id": "X2bw9Y22LjiW",
    "outputId": "21adec1d-3c69-46d9-899c-08dbd6823d82"
   },
   "outputs": [],
   "source": [
    "#Calculating Mean Absolute Error (MAE).\n",
    "mae = mean_absolute_error(actual, predicted)\n",
    "#Calculating Mean Squared Error (MSE).\n",
    "mse = mean_squared_error(actual, predicted)\n",
    "#Calculating Root Mean Squared Error (RMSE).\n",
    "rmse = np.sqrt(mse)\n",
    "#Printing the performance metrics.\n",
    "print(f\"Mean Absolute Error (MAE): {mae:.4f}\")\n",
    "print(f\"Mean Squared Error (MSE): {mse:.4f}\")\n",
    "print(f\"Root Mean Squared Error (RMSE): {rmse:.4f}\")"
   ]
  }
 ],
 "metadata": {
  "colab": {
   "provenance": []
  },
  "kernelspec": {
   "display_name": "Python 3",
   "language": "python",
   "name": "python3"
  },
  "language_info": {
   "codemirror_mode": {
    "name": "ipython",
    "version": 3
   },
   "file_extension": ".py",
   "mimetype": "text/x-python",
   "name": "python",
   "nbconvert_exporter": "python",
   "pygments_lexer": "ipython3",
   "version": "3.12.6"
  }
 },
 "nbformat": 4,
 "nbformat_minor": 0
}
